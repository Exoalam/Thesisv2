{
 "cells": [
  {
   "cell_type": "code",
   "execution_count": 5,
   "metadata": {},
   "outputs": [
    {
     "name": "stdout",
     "output_type": "stream",
     "text": [
      "কেমন আছো?\n"
     ]
    }
   ],
   "source": [
    "from transformers import AutoModelForSeq2SeqLM, AutoTokenizer\n",
    "from normalizer import normalize \n",
    "\n",
    "model = AutoModelForSeq2SeqLM.from_pretrained(\"csebuetnlp/banglat5_nmt_en_bn\")\n",
    "tokenizer = AutoTokenizer.from_pretrained(\"csebuetnlp/banglat5_nmt_en_bn\", use_fast=False)\n",
    "model2 = AutoModelForSeq2SeqLM.from_pretrained(\"csebuetnlp/banglat5_nmt_bn_en\")\n",
    "input_sentence = \"কেমন আছো?\"\n",
    "input_ids = tokenizer(normalize(input_sentence), return_tensors=\"pt\").input_ids\n",
    "generated_tokens = model.generate(input_ids)\n",
    "decoded_tokens = tokenizer.batch_decode(generated_tokens, skip_special_tokens=True)[0]\n",
    "#coverted\n",
    "input_sentence = decoded_tokens\n",
    "input_ids = tokenizer(normalize(input_sentence), return_tensors=\"pt\").input_ids\n",
    "generated_tokens = model.generate(input_ids)\n",
    "decoded_tokens = tokenizer.batch_decode(generated_tokens, skip_special_tokens=True)[0]\n",
    "print(decoded_tokens)\n"
   ]
  },
  {
   "cell_type": "code",
   "execution_count": null,
   "metadata": {},
   "outputs": [],
   "source": []
  }
 ],
 "metadata": {
  "kernelspec": {
   "display_name": "nlp2",
   "language": "python",
   "name": "python3"
  },
  "language_info": {
   "codemirror_mode": {
    "name": "ipython",
    "version": 3
   },
   "file_extension": ".py",
   "mimetype": "text/x-python",
   "name": "python",
   "nbconvert_exporter": "python",
   "pygments_lexer": "ipython3",
   "version": "3.10.13"
  }
 },
 "nbformat": 4,
 "nbformat_minor": 2
}
