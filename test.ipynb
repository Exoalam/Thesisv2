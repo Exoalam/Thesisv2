{
 "cells": [
  {
   "cell_type": "code",
   "execution_count": 10,
   "metadata": {},
   "outputs": [
    {
     "name": "stderr",
     "output_type": "stream",
     "text": [
      "Special tokens have been added in the vocabulary, make sure the associated word embeddings are fine-tuned or trained.\n",
      "c:\\Users\\nafiu\\AppData\\Local\\miniconda3\\envs\\nlp2\\lib\\site-packages\\transformers\\generation\\utils.py:1178: UserWarning: Using the model-agnostic default `max_length` (=20) to control the generation length. We recommend setting `max_new_tokens` to control the maximum length of the generation.\n",
      "  warnings.warn(\n"
     ]
    },
    {
     "ename": "AttributeError",
     "evalue": "'Tensor' object has no attribute 'find'",
     "output_type": "error",
     "traceback": [
      "\u001b[1;31m---------------------------------------------------------------------------\u001b[0m",
      "\u001b[1;31mAttributeError\u001b[0m                            Traceback (most recent call last)",
      "Cell \u001b[1;32mIn[10], line 20\u001b[0m\n\u001b[0;32m     18\u001b[0m \u001b[38;5;66;03m#Reverse\u001b[39;00m\n\u001b[0;32m     19\u001b[0m input_sentence \u001b[38;5;241m=\u001b[39m outputs\n\u001b[1;32m---> 20\u001b[0m input_ids \u001b[38;5;241m=\u001b[39m tokenizer(\u001b[43mnormalize\u001b[49m\u001b[43m(\u001b[49m\u001b[43minput_sentence\u001b[49m\u001b[43m)\u001b[49m, return_tensors\u001b[38;5;241m=\u001b[39m\u001b[38;5;124m\"\u001b[39m\u001b[38;5;124mpt\u001b[39m\u001b[38;5;124m\"\u001b[39m)\u001b[38;5;241m.\u001b[39minput_ids\n\u001b[0;32m     21\u001b[0m generated_tokens \u001b[38;5;241m=\u001b[39m model\u001b[38;5;241m.\u001b[39mgenerate(input_ids)\n\u001b[0;32m     22\u001b[0m decoded_tokens \u001b[38;5;241m=\u001b[39m tokenizer\u001b[38;5;241m.\u001b[39mbatch_decode(generated_tokens, skip_special_tokens\u001b[38;5;241m=\u001b[39m\u001b[38;5;28;01mTrue\u001b[39;00m)[\u001b[38;5;241m0\u001b[39m]\n",
      "File \u001b[1;32mc:\\Users\\nafiu\\AppData\\Local\\miniconda3\\envs\\nlp2\\lib\\site-packages\\normalizer\\normalize.py:22\u001b[0m, in \u001b[0;36mnormalize\u001b[1;34m(text, unicode_norm, punct_replacement, url_replacement, emoji_replacement, apply_unicode_norm_last)\u001b[0m\n\u001b[0;32m     11\u001b[0m \u001b[38;5;28;01mdef\u001b[39;00m \u001b[38;5;21mnormalize\u001b[39m(\n\u001b[0;32m     12\u001b[0m     text,\n\u001b[0;32m     13\u001b[0m     unicode_norm\u001b[38;5;241m=\u001b[39m\u001b[38;5;124m\"\u001b[39m\u001b[38;5;124mNFKC\u001b[39m\u001b[38;5;124m\"\u001b[39m,\n\u001b[1;32m   (...)\u001b[0m\n\u001b[0;32m     20\u001b[0m     \u001b[38;5;66;03m# and group characters for future\u001b[39;00m\n\u001b[0;32m     21\u001b[0m     \u001b[38;5;66;03m# char replacements to work\u001b[39;00m\n\u001b[1;32m---> 22\u001b[0m     text \u001b[38;5;241m=\u001b[39m \u001b[43mfix_text\u001b[49m\u001b[43m(\u001b[49m\n\u001b[0;32m     23\u001b[0m \u001b[43m        \u001b[49m\u001b[43mtext\u001b[49m\u001b[43m,\u001b[49m\n\u001b[0;32m     24\u001b[0m \u001b[43m        \u001b[49m\u001b[43mnormalization\u001b[49m\u001b[38;5;241;43m=\u001b[39;49m\u001b[38;5;124;43m\"\u001b[39;49m\u001b[38;5;124;43mNFC\u001b[39;49m\u001b[38;5;124;43m\"\u001b[39;49m\u001b[43m,\u001b[49m\n\u001b[0;32m     25\u001b[0m \u001b[43m        \u001b[49m\u001b[43mexplain\u001b[49m\u001b[38;5;241;43m=\u001b[39;49m\u001b[38;5;28;43;01mFalse\u001b[39;49;00m\u001b[43m,\u001b[49m\n\u001b[0;32m     26\u001b[0m \n\u001b[0;32m     27\u001b[0m \u001b[43m    \u001b[49m\u001b[43m)\u001b[49m\n\u001b[0;32m     29\u001b[0m     \u001b[38;5;66;03m# normalize variations of quotes\u001b[39;00m\n\u001b[0;32m     30\u001b[0m     text \u001b[38;5;241m=\u001b[39m fix_quotes(text)\n",
      "File \u001b[1;32mc:\\Users\\nafiu\\AppData\\Local\\miniconda3\\envs\\nlp2\\lib\\site-packages\\ftfy\\__init__.py:303\u001b[0m, in \u001b[0;36mfix_text\u001b[1;34m(text, config, **kwargs)\u001b[0m\n\u001b[0;32m    301\u001b[0m pos \u001b[38;5;241m=\u001b[39m \u001b[38;5;241m0\u001b[39m\n\u001b[0;32m    302\u001b[0m \u001b[38;5;28;01mwhile\u001b[39;00m pos \u001b[38;5;241m<\u001b[39m \u001b[38;5;28mlen\u001b[39m(text):\n\u001b[1;32m--> 303\u001b[0m     textbreak \u001b[38;5;241m=\u001b[39m \u001b[43mtext\u001b[49m\u001b[38;5;241;43m.\u001b[39;49m\u001b[43mfind\u001b[49m(\u001b[38;5;124m\"\u001b[39m\u001b[38;5;130;01m\\n\u001b[39;00m\u001b[38;5;124m\"\u001b[39m, pos) \u001b[38;5;241m+\u001b[39m \u001b[38;5;241m1\u001b[39m\n\u001b[0;32m    304\u001b[0m     \u001b[38;5;28;01mif\u001b[39;00m textbreak \u001b[38;5;241m==\u001b[39m \u001b[38;5;241m0\u001b[39m:\n\u001b[0;32m    305\u001b[0m         textbreak \u001b[38;5;241m=\u001b[39m \u001b[38;5;28mlen\u001b[39m(text)\n",
      "\u001b[1;31mAttributeError\u001b[0m: 'Tensor' object has no attribute 'find'"
     ]
    }
   ],
   "source": [
    "from transformers import AutoModelForSeq2SeqLM, AutoTokenizer\n",
    "from normalizer import normalize \n",
    "\n",
    "model = AutoModelForSeq2SeqLM.from_pretrained(\"csebuetnlp/banglat5_nmt_en_bn\")\n",
    "tokenizer = AutoTokenizer.from_pretrained(\"csebuetnlp/banglat5_nmt_en_bn\", use_fast=False)\n",
    "model2 = AutoModelForSeq2SeqLM.from_pretrained(\"csebuetnlp/banglat5_nmt_bn_en\")\n",
    "input_sentence = \"কেমন আছো?\"\n",
    "input_ids = tokenizer(normalize(input_sentence), return_tensors=\"pt\").input_ids\n",
    "generated_tokens = model.generate(input_ids)\n",
    "decoded_tokens = tokenizer.batch_decode(generated_tokens, skip_special_tokens=True)[0]\n",
    "#coverted\n",
    "input_sentence = decoded_tokens\n",
    "input_ids = tokenizer(normalize(input_sentence), return_tensors=\"pt\").input_ids\n",
    "generated_tokens = model.generate(input_ids)\n",
    "decoded_tokens = tokenizer.batch_decode(generated_tokens, skip_special_tokens=True)[0]\n",
    "print(decoded_tokens)\n"
   ]
  },
  {
   "cell_type": "code",
   "execution_count": 20,
   "metadata": {},
   "outputs": [
    {
     "name": "stderr",
     "output_type": "stream",
     "text": [
      "Special tokens have been added in the vocabulary, make sure the associated word embeddings are fine-tuned or trained.\n"
     ]
    },
    {
     "name": "stdout",
     "output_type": "stream",
     "text": [
      "How are you?\n",
      "আমি দুঃখিত।\n"
     ]
    }
   ],
   "source": [
    "from transformers import T5Tokenizer, T5ForConditionalGeneration\n",
    "from transformers import AutoModelForSeq2SeqLM, AutoTokenizer\n",
    "from normalizer import normalize \n",
    "\n",
    "model_g = T5ForConditionalGeneration.from_pretrained(\"google/flan-t5-base\")\n",
    "model_b_e = AutoModelForSeq2SeqLM.from_pretrained(\"csebuetnlp/banglat5_nmt_bn_en\")\n",
    "model_e_b = AutoModelForSeq2SeqLM.from_pretrained(\"csebuetnlp/banglat5_nmt_en_bn\")\n",
    "tokenizer_g = T5Tokenizer.from_pretrained(\"google/flan-t5-base\")\n",
    "tokenizer_b_e = AutoTokenizer.from_pretrained(\"csebuetnlp/banglat5_nmt_bn_en\", use_fast=False)\n",
    "tokenizer_e_b = AutoTokenizer.from_pretrained(\"csebuetnlp/banglat5_nmt_en_bn\", use_fast=False)\n",
    "\n",
    "input_sentence = \"কেমন আছো?\"\n",
    "input_ids = tokenizer_b_e(normalize(input_sentence), return_tensors=\"pt\").input_ids\n",
    "generated_tokens = model_b_e.generate(input_ids)\n",
    "decoded_tokens = tokenizer_b_e.batch_decode(generated_tokens, skip_special_tokens=True)[0]\n",
    "input_text = decoded_tokens\n",
    "input_ids = tokenizer_g(input_text, return_tensors=\"pt\").input_ids\n",
    "outputs = model_g.generate(input_ids, max_length=50)\n",
    "decoded_tokens = tokenizer_g.decode(outputs[0], skip_special_tokens=True)\n",
    "input_sentence = decoded_tokens\n",
    "input_ids = tokenizer_e_b(normalize(input_sentence), return_tensors=\"pt\").input_ids\n",
    "generated_tokens = model_e_b.generate(input_ids)\n",
    "decoded_tokens = tokenizer_e_b.batch_decode(generated_tokens, skip_special_tokens=True)[0]\n",
    "print(decoded_tokens)\n"
   ]
  },
  {
   "cell_type": "code",
   "execution_count": null,
   "metadata": {},
   "outputs": [],
   "source": []
  }
 ],
 "metadata": {
  "kernelspec": {
   "display_name": "nlp2",
   "language": "python",
   "name": "python3"
  },
  "language_info": {
   "codemirror_mode": {
    "name": "ipython",
    "version": 3
   },
   "file_extension": ".py",
   "mimetype": "text/x-python",
   "name": "python",
   "nbconvert_exporter": "python",
   "pygments_lexer": "ipython3",
   "version": "3.10.13"
  }
 },
 "nbformat": 4,
 "nbformat_minor": 2
}
